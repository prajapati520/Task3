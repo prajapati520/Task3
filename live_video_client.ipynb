{
 "cells": [
  {
   "cell_type": "code",
   "execution_count": null,
   "metadata": {},
   "outputs": [],
   "source": [
    "# lets make the client code\n",
    "import socket,cv2, pickle,struct\n"
   ]
  },
  {
   "cell_type": "code",
   "execution_count": null,
   "metadata": {},
   "outputs": [],
   "source": [
    "client_socket = socket.socket(socket.AF_INET,socket.SOCK_STREAM)\n",
    "host_ip = '192.168.43.12' # paste your server ip address here\n",
    "port = 9999\n",
    "client_socket.connect((host_ip,port)) # a tuple\n",
    "data = b\"\"\n",
    "payload_size = struct.calcsize(\"Q\")\n",
    "while True:\n",
    "\twhile len(data) < payload_size:\n",
    "\t\tpacket = client_socket.recv(4*1024) # 4K\n",
    "\t\tif not packet: break\n",
    "\t\tdata+=packet\n",
    "\tpacked_msg_size = data[:payload_size]\n",
    "\tdata = data[payload_size:]\n",
    "\tmsg_size = struct.unpack(\"Q\",packed_msg_size)[0]\n",
    "\t\n",
    "\twhile len(data) < msg_size:\n",
    "\t\tdata += client_socket.recv(4*1024)\n",
    "\tframe_data = data[:msg_size]\n",
    "\tdata  = data[msg_size:]\n",
    "\tframe = pickle.loads(frame_data)\n",
    "\tcv2.imshow(\"RECEIVING VIDEO\",frame)\n",
    "\tkey = cv2.waitKey(1) & 0xFF\n",
    "\tif key ==13 or key ==113 or key==81:\n",
    "\t\t\n",
    "\t\tcv2.destroyAllWindows()\n",
    "\t\tbreak\n",
    "client_socket.close()"
   ]
  },
  {
   "cell_type": "code",
   "execution_count": null,
   "metadata": {},
   "outputs": [],
   "source": []
  }
 ],
 "metadata": {
  "kernelspec": {
   "display_name": "Python 3",
   "language": "python",
   "name": "python3"
  },
  "language_info": {
   "codemirror_mode": {
    "name": "ipython",
    "version": 3
   },
   "file_extension": ".py",
   "mimetype": "text/x-python",
   "name": "python",
   "nbconvert_exporter": "python",
   "pygments_lexer": "ipython3",
   "version": "3.8.3"
  }
 },
 "nbformat": 4,
 "nbformat_minor": 5
}
