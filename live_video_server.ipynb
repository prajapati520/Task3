{
 "cells": [
  {
   "cell_type": "code",
   "execution_count": null,
   "metadata": {},
   "outputs": [],
   "source": [
    "import socket, cv2, pickle,struct,imutils"
   ]
  },
  {
   "cell_type": "code",
   "execution_count": null,
   "metadata": {},
   "outputs": [],
   "source": []
  },
  {
   "cell_type": "code",
   "execution_count": null,
   "metadata": {},
   "outputs": [],
   "source": [
    "# Socket Create\n",
    "server_socket = socket.socket(socket.AF_INET,socket.SOCK_STREAM)\n",
    "host_name  = socket.gethostname()\n",
    "host_ip = socket.gethostbyname(host_name)\n",
    "print('HOST IP:',host_ip)\n",
    "port = 9999\n",
    "socket_address = (host_ip,port)"
   ]
  },
  {
   "cell_type": "code",
   "execution_count": null,
   "metadata": {},
   "outputs": [],
   "source": [
    "# Socket Bind\n",
    "server_socket.bind(socket_address)"
   ]
  },
  {
   "cell_type": "code",
   "execution_count": null,
   "metadata": {},
   "outputs": [],
   "source": [
    "# Socket Listen\n",
    "server_socket.listen(5)\n",
    "print(\"LISTENING AT:\",socket_address)\n"
   ]
  },
  {
   "cell_type": "code",
   "execution_count": null,
   "metadata": {},
   "outputs": [],
   "source": [
    "# Socket Accept\n",
    "while True:\n",
    "\tclient_socket,addr = server_socket.accept()\n",
    "\tprint('GOT CONNECTION FROM:',addr)\n",
    "\tif client_socket:\n",
    "\t\tvid = cv2.VideoCapture(0)\n",
    "\t\t\n",
    "\t\twhile(vid.isOpened()):\n",
    "\t\t\timg,frame = vid.read()\n",
    "\t\t\tframe = imutils.resize(frame,width=680)\n",
    "\t\t\ta = pickle.dumps(frame)\n",
    "\t\t\tmessage = struct.pack(\"Q\",len(a))+a\n",
    "\t\t\tclient_socket.sendall(message)\n",
    "\t\t\t\n",
    "\t\t\tcv2.imshow('TRANSMITTING VIDEO',frame)\n",
    "\t\t\tkey = cv2.waitKey(1) & 0xFF\n",
    "\t\t\tif key ==13 or key ==113 or key==81:\n",
    "\t\t\t\tmsg=\"q\"\n",
    "\t\t\t\tclient_socket.send(msg.encode())\n",
    "\t\t\t\tclient_socket.close()\n",
    "\t\t\t\tcv2.destroyAllWindows()"
   ]
  },
  {
   "cell_type": "code",
   "execution_count": null,
   "metadata": {},
   "outputs": [],
   "source": []
  }
 ],
 "metadata": {
  "kernelspec": {
   "display_name": "Python 3",
   "language": "python",
   "name": "python3"
  },
  "language_info": {
   "codemirror_mode": {
    "name": "ipython",
    "version": 3
   },
   "file_extension": ".py",
   "mimetype": "text/x-python",
   "name": "python",
   "nbconvert_exporter": "python",
   "pygments_lexer": "ipython3",
   "version": "3.8.3"
  }
 },
 "nbformat": 4,
 "nbformat_minor": 5
}
